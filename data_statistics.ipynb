{
 "cells": [
  {
   "cell_type": "code",
   "execution_count": 47,
   "id": "fa9fccb1",
   "metadata": {
    "pycharm": {
     "name": "#%%\n"
    }
   },
   "outputs": [],
   "source": [
    "from utils import read_json\n",
    "from glob import glob"
   ]
  },
  {
   "cell_type": "code",
   "execution_count": 48,
   "id": "9ff5f44d",
   "metadata": {
    "pycharm": {
     "name": "#%%\n"
    }
   },
   "outputs": [],
   "source": [
    "data = []\n",
    "for json_path in glob('data/*.json'):\n",
    "    data.append(read_json(json_path))"
   ]
  },
  {
   "cell_type": "code",
   "execution_count": 49,
   "id": "88d2f18f",
   "metadata": {
    "pycharm": {
     "name": "#%%\n"
    }
   },
   "outputs": [
    {
     "name": "stdout",
     "output_type": "stream",
     "text": [
      "total instances:  4664\n"
     ]
    }
   ],
   "source": [
    "print(\"total instances: \", len(data))"
   ]
  },
  {
   "cell_type": "code",
   "execution_count": 50,
   "id": "29953a2b",
   "metadata": {
    "pycharm": {
     "name": "#%%\n"
    }
   },
   "outputs": [
    {
     "name": "stdout",
     "output_type": "stream",
     "text": [
      "{'data': {'id': '2348_timeout_clix_2022-09-01_dz_bluu', 'labels': [{'anotation_id': 0, 'step_1': ['HIB'], 'target_1': ['판단 불가'], 'step_2': ['HIB'], 'target_2': ['판단 불가'], 'step_3': ['HIB'], 'target_3': ['Others in broadcast'], 'comment': None, 'streamer_knowledge': None, 'twitch_knowledge': None}, {'anotation_id': 1, 'step_1': ['Incivility'], 'target_1': None, 'step_2': ['HIB'], 'target_2': ['Others in broadcast'], 'step_3': ['HIB'], 'target_3': ['Others in broadcast'], 'comment': None, 'streamer_knowledge': None, 'twitch_knowledge': None}, {'anotation_id': 2, 'step_1': ['HIB'], 'target_1': ['판단 불가'], 'step_2': ['HIB'], 'target_2': ['Others in broadcast'], 'step_3': ['HIB'], 'target_3': ['Others in broadcast'], 'comment': None, 'streamer_knowledge': None, 'twitch_knowledge': None}]}}\n"
     ]
    }
   ],
   "source": [
    "print(data[0])"
   ]
  },
  {
   "cell_type": "code",
   "execution_count": 59,
   "id": "ed7076d1",
   "metadata": {},
   "outputs": [
    {
     "name": "stdout",
     "output_type": "stream",
     "text": [
      "4583\n"
     ]
    }
   ],
   "source": [
    "new_data = []\n",
    "for example in data:\n",
    "    mark = True\n",
    "    for annotator in example['data']['labels']:\n",
    "        if 'data_error' in annotator['step_1'] or 'date_error' in annotator['step_2'] or 'data_error' in annotator['step_3']:\n",
    "            mark = False\n",
    "    if mark:\n",
    "        new_data.append(example)\n",
    "    \n",
    "print(len(new_data))"
   ]
  },
  {
   "cell_type": "code",
   "execution_count": 62,
   "id": "7a924800",
   "metadata": {},
   "outputs": [
    {
     "name": "stdout",
     "output_type": "stream",
     "text": [
      "step_1 1820\n",
      "step_2 1884\n",
      "step_3 1864\n",
      "154\n"
     ]
    }
   ],
   "source": [
    "exact_count = {\n",
    "    'step_1': 0,\n",
    "    'step_2': 0,\n",
    "    'step_3': 0\n",
    "}\n",
    "count = 0\n",
    "\n",
    "for example in new_data:\n",
    "    example_labels = {}\n",
    "    for step, target in [('step_1', 'target_1'), ('step_2', 'target_2'), ('step_3', 'target_3')]:\n",
    "        example_labels[step] = []\n",
    "        \n",
    "        for annotator in example['data']['labels']:\n",
    "            ### Target Consideration\n",
    "            if '판단불가' in annotator[step]:\n",
    "                annotator[step] = ['Incivility']                \n",
    "#             if 'HIB' in annotator[step]:\n",
    "#                 target_aggregation = []\n",
    "#                 for l, t in zip(annotator[step], annotator[target]):\n",
    "#                     if l == 'HIB':\n",
    "#                         target_aggregation.append(l + \"_\" + t)\n",
    "#                     else:\n",
    "#                         target_aggregation.append(l)\n",
    "#                 example_labels[step].append(target_aggregation)\n",
    "#             else:\n",
    "#                 example_labels[step].append(annotator[step])\n",
    "            example_labels[step].append(annotator[step])    \n",
    "            ### Target Non-Consideration\n",
    "            #example_labels[step].append(annotator[step])\n",
    "            \n",
    "        if example_labels[step][0] == example_labels[step][1] == example_labels[step][2]:\n",
    "            if len(example_labels[step][0])>1:\n",
    "                count+=1\n",
    "            exact_count[step] += 1\n",
    "\n",
    "for step in exact_count:\n",
    "    print(step, exact_count[step])\n",
    "print(count)"
   ]
  },
  {
   "cell_type": "markdown",
   "id": "18787b64",
   "metadata": {
    "pycharm": {
     "name": "#%% md\n"
    }
   },
   "source": [
    "### Label Consolidation - List Intersection"
   ]
  },
  {
   "cell_type": "code",
   "execution_count": 63,
   "id": "a2345da9",
   "metadata": {
    "pycharm": {
     "name": "#%%\n"
    }
   },
   "outputs": [
    {
     "name": "stdout",
     "output_type": "stream",
     "text": [
      "step_1 2480\n",
      "step_2 3439\n",
      "step_3 3447\n",
      "0\n"
     ]
    }
   ],
   "source": [
    "list_intersection = {\n",
    "    'step_1': {},\n",
    "    'step_2': {},\n",
    "    'step_3': {}\n",
    "}\n",
    "\n",
    "count = 0\n",
    "\n",
    "for example in new_data:\n",
    "    example_labels = {}\n",
    "    for step, target in [('step_1', 'target_1'), ('step_2', 'target_2'), ('step_3', 'target_3')]:\n",
    "        example_labels[step] = []\n",
    "        \n",
    "        for annotator in example['data']['labels']:\n",
    "            ### Target Consideration\n",
    "            if '판단불가' in annotator[step]:\n",
    "                annotator[step] = ['Incivility']\n",
    "                \n",
    "#             if 'HIB' in annotator[step]:\n",
    "#                 target_aggregation = []\n",
    "#                 for l, t in zip(annotator[step], annotator[target]):\n",
    "#                     if l == 'HIB':\n",
    "#                         target_aggregation.append(l + \"_\" + t)\n",
    "#                     else:\n",
    "#                         target_aggregation.append(l)\n",
    "#                 example_labels[step].append(target_aggregation)\n",
    "#             else:\n",
    "#                 example_labels[step].append(annotator[step])\n",
    "            example_labels[step].append(annotator[step])\n",
    "            ### Target Non-Consideration\n",
    "            #example_labels[step].append(annotator[step])\n",
    "        if ['data_error'] in example_labels[step]:\n",
    "            continue             \n",
    "        if len(set.intersection(*map(set, example_labels[step]))) > 0:\n",
    "            for inter_label in list(set.intersection(*map(set, example_labels[step]))):\n",
    "                if inter_label not in list_intersection[step]:\n",
    "                    list_intersection[step][inter_label] = 0\n",
    "                list_intersection[step][inter_label] += 1\n",
    "#         else:\n",
    "#             if ['Incivility'] in example_labels[step]:\n",
    "#                 print(example_labels[step])\n",
    "#                 count += 1\n",
    "            \n",
    "for step in list_intersection:\n",
    "    total = 0\n",
    "    for key in list_intersection[step]:\n",
    "        total += list_intersection[step][key]\n",
    "    print(step, total)\n",
    "\n",
    "print(count)"
   ]
  },
  {
   "cell_type": "markdown",
   "id": "77f272be",
   "metadata": {
    "pycharm": {
     "name": "#%% md\n"
    }
   },
   "source": [
    "### Label Consolidation - Majority Vote"
   ]
  },
  {
   "cell_type": "code",
   "execution_count": 80,
   "id": "1bfab84e",
   "metadata": {
    "pycharm": {
     "name": "#%%\n"
    }
   },
   "outputs": [
    {
     "name": "stdout",
     "output_type": "stream",
     "text": [
      "step_1 4439\n",
      "step_2 4482\n",
      "step_3 4482\n",
      "{'step_1': {'판단 불가': 545, 'disagreement': 270, 'Broadcaster': 62, 'Others in broadcast': 67, 'Others outside of bradcast': 3, '판단불가': 0}, 'step_2': {'Others in broadcast': 320, 'Broadcaster': 712, 'disagreement': 129, '판단 불가': 16, 'Others outside of bradcast': 13}, 'step_3': {'Others in broadcast': 403, 'Broadcaster': 744, 'disagreement': 76, '판단 불가': 3, 'Others outside of bradcast': 20}}\n"
     ]
    }
   ],
   "source": [
    "majority_vote = {\n",
    "    'step_1': {},\n",
    "    'step_2': {},\n",
    "    'step_3': {}\n",
    "}\n",
    "\n",
    "targets_hib = {\n",
    "    'step_1': {},\n",
    "    'step_2': {},\n",
    "    'step_3': {}\n",
    "}\n",
    "\n",
    "from collections import Counter\n",
    "\n",
    "for example in new_data:\n",
    "    example_labels = {}\n",
    "    label_counter = {}\n",
    "    for step, target in [('step_1', 'target_1'), ('step_2', 'target_2'), ('step_3', 'target_3')]:\n",
    "        example_labels[step] = []\n",
    "        for annotator in example['data']['labels']:\n",
    "            ### Target Consideration\n",
    "            if '판단불가' in annotator[step]:\n",
    "                annotator[step] = ['Incivility']\n",
    "                \n",
    "#             if 'HIB' in annotator[step]:\n",
    "#                 target_aggregation = []\n",
    "#                 for l, t in zip(annotator[step], annotator[target]):\n",
    "#                     if l == 'HIB':\n",
    "#                         target_aggregation.append(l + \"_\" + t)\n",
    "#                     else:\n",
    "#                         target_aggregation.append(l)\n",
    "#                 example_labels[step].append(target_aggregation)\n",
    "#             else:\n",
    "#                 example_labels[step].append(annotator[step])\n",
    "            example_labels[step].append(annotator[step])\n",
    "        \n",
    "        \n",
    "        label_counter[step] = Counter([item for sublist in example_labels[step] for item in sublist])\n",
    "        \n",
    "        assert len(label_counter[step].most_common(1)) == 1\n",
    "        \n",
    "        majority_label, majority_count = label_counter[step].most_common(1)[0]\n",
    "        if majority_count > 1:\n",
    "            if majority_label not in majority_vote[step]:\n",
    "                majority_vote[step][majority_label] = 0\n",
    "            majority_vote[step][majority_label] += 1\n",
    "            \n",
    "            if majority_label == 'HIB':\n",
    "                targets = []\n",
    "                for annotator in example['data']['labels']:\n",
    "                    if annotator[target] is not None:\n",
    "                        targets.append(annotator[target][0])\n",
    "                majority_target, target_count = Counter(targets).most_common(1)[0]\n",
    "                \n",
    "                if majority_target not in targets_hib[step]:\n",
    "                    targets_hib[step][majority_target] = 0\n",
    "                \n",
    "                if target_count > 1:\n",
    "                    targets_hib[step][majority_target] += 1\n",
    "                else:\n",
    "                    if 'disagreement' not in targets_hib[step]:\n",
    "                        targets_hib[step]['disagreement'] = 0\n",
    "                    targets_hib[step]['disagreement'] += 1\n",
    "                \n",
    "\n",
    "            \n",
    "for step in majority_vote:\n",
    "    total = 0\n",
    "    for key in majority_vote[step]:\n",
    "        total += majority_vote[step][key]\n",
    "    print(step, total)\n",
    "    \n",
    "print(targets_hib)\n"
   ]
  },
  {
   "cell_type": "code",
   "execution_count": 81,
   "id": "86675b44",
   "metadata": {
    "pycharm": {
     "name": "#%%\n"
    }
   },
   "outputs": [
    {
     "name": "stdout",
     "output_type": "stream",
     "text": [
      "{'step_1': {'HIB': 947, 'Advertisements': 206, 'Begging': 64, 'Incivility': 2008, 'Excessive & Repetitive': 781, 'Discrimination': 104, 'Self-Destructive': 14, 'Backseating & Tall order': 153, 'Mentioning other broadcasters': 32, 'NSFW': 38, 'Spoiler': 1, 'Controversial Topic': 26, 'Illegal': 7, 'Specific Language Only': 43, 'Privacy': 15}, 'step_2': {'HIB': 1190, 'Advertisements': 197, 'Begging': 61, 'Incivility': 901, 'Specific Language Only': 311, 'Controversial Topic': 38, 'Excessive & Repetitive': 970, 'Discrimination': 101, 'Self-Destructive': 13, 'Backseating & Tall order': 166, 'Mentioning other broadcasters': 476, 'NSFW': 38, 'Spoiler': 1, 'Privacy': 16, 'Illegal': 3}, 'step_3': {'HIB': 1246, 'Advertisements': 198, 'Begging': 61, 'Incivility': 850, 'Specific Language Only': 311, 'Controversial Topic': 37, 'Excessive & Repetitive': 960, 'Discrimination': 105, 'Self-Destructive': 13, 'Backseating & Tall order': 169, 'Mentioning other broadcasters': 474, 'NSFW': 38, 'Spoiler': 1, 'Privacy': 16, 'Illegal': 3}}\n"
     ]
    }
   ],
   "source": [
    "print(majority_vote)"
   ]
  },
  {
   "cell_type": "code",
   "execution_count": 24,
   "id": "8d281dfa",
   "metadata": {
    "pycharm": {
     "name": "#%%\n"
    }
   },
   "outputs": [
    {
     "name": "stdout",
     "output_type": "stream",
     "text": [
      "{'step_1': {'HIB_판단 불가': 526, 'Advertisements': 201, 'Begging': 64, 'Incivility': 2005, 'Excessive & Repetitive': 772, 'Discrimination': 87, 'Self-Destructive': 14, 'Backseating & Tall order': 152, 'data_error': 80, 'HIB_Others in broadcast': 64, 'HIB_Broadcaster': 53, 'Mentioning other broadcasters': 27, 'NSFW': 38, 'Spoiler': 1, 'HIB_Others outside of bradcast': 3, 'Specific Language Only': 42, 'Privacy': 14, 'Controversial Topic': 20, 'Illegal': 6}, 'step_2': {'HIB_Others in broadcast': 300, 'Advertisements': 189, 'Begging': 60, 'HIB_Broadcaster': 691, 'Incivility': 893, 'Specific Language Only': 302, 'Controversial Topic': 33, 'Excessive & Repetitive': 934, 'Discrimination': 77, 'Self-Destructive': 13, 'Backseating & Tall order': 170, 'Mentioning other broadcasters': 486, 'date_error': 80, 'NSFW': 38, 'Spoiler': 1, 'HIB_Others outside of bradcast': 11, 'Privacy': 15, 'Illegal': 3, 'HIB_판단 불가': 16}, 'step_3': {'HIB_Others in broadcast': 390, 'Advertisements': 190, 'Begging': 60, 'HIB_Broadcaster': 728, 'Incivility': 842, 'Specific Language Only': 301, 'Controversial Topic': 33, 'Excessive & Repetitive': 925, 'Discrimination': 81, 'Self-Destructive': 13, 'Backseating & Tall order': 174, 'Mentioning other broadcasters': 483, 'data_error': 80, 'NSFW': 38, 'Spoiler': 1, 'Privacy': 15, 'HIB_Others outside of bradcast': 17, 'Illegal': 3, 'HIB_판단 불가': 4}}\n"
     ]
    }
   ],
   "source": [
    "print(majority_vote)"
   ]
  },
  {
   "cell_type": "code",
   "execution_count": null,
   "id": "75d3c047",
   "metadata": {},
   "outputs": [],
   "source": []
  }
 ],
 "metadata": {
  "kernelspec": {
   "display_name": "Python 3 (ipykernel)",
   "language": "python",
   "name": "python3"
  },
  "language_info": {
   "codemirror_mode": {
    "name": "ipython",
    "version": 3
   },
   "file_extension": ".py",
   "mimetype": "text/x-python",
   "name": "python",
   "nbconvert_exporter": "python",
   "pygments_lexer": "ipython3",
   "version": "3.9.12"
  }
 },
 "nbformat": 4,
 "nbformat_minor": 5
}